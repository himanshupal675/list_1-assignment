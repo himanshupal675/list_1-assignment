{
 "cells": [
  {
   "cell_type": "code",
   "execution_count": 31,
   "id": "b3cb83a7-f447-423e-afd0-19244ab1a7aa",
   "metadata": {},
   "outputs": [],
   "source": [
    "## Create an Empty List\n",
    "l=[]"
   ]
  },
  {
   "cell_type": "code",
   "execution_count": 37,
   "id": "71e2d353-e1a7-484a-b28b-9dea2af9bfd5",
   "metadata": {},
   "outputs": [
    {
     "data": {
      "text/plain": [
       "[14, 24, 37, 48, 53, 62, 57]"
      ]
     },
     "execution_count": 37,
     "metadata": {},
     "output_type": "execute_result"
    }
   ],
   "source": [
    "#Q2. Create a list and add an element to the end of this list.\n",
    "l1=[14,24,37,48,53,62]\n",
    "l1.append(57)\n",
    "l1"
   ]
  },
  {
   "cell_type": "code",
   "execution_count": 38,
   "id": "8915c255-c759-4a3d-9033-16f97e6652e1",
   "metadata": {},
   "outputs": [
    {
     "name": "stdout",
     "output_type": "stream",
     "text": [
      "57\n"
     ]
    }
   ],
   "source": [
    "#Q3. For the above created list print the last element.\n",
    "print(l1[-1])"
   ]
  },
  {
   "cell_type": "code",
   "execution_count": 39,
   "id": "e43bf94a-a96d-45a8-82c5-597b1e15da21",
   "metadata": {},
   "outputs": [
    {
     "data": {
      "text/plain": [
       "[57, 62, 53, 48, 37, 24, 14]"
      ]
     },
     "execution_count": 39,
     "metadata": {},
     "output_type": "execute_result"
    }
   ],
   "source": [
    "#Q4. Reverse the above created list.\n",
    "l1[::-1]"
   ]
  },
  {
   "cell_type": "code",
   "execution_count": 42,
   "id": "80dd5aa2-63fe-4f63-a603-4aaae376d4f0",
   "metadata": {},
   "outputs": [
    {
     "data": {
      "text/plain": [
       "[14, 24, 37, 48, 53, 62, 57]"
      ]
     },
     "execution_count": 42,
     "metadata": {},
     "output_type": "execute_result"
    }
   ],
   "source": [
    "#Q5. Sort the above created list.\n",
    "l1.sort\n",
    "l1"
   ]
  },
  {
   "cell_type": "code",
   "execution_count": 43,
   "id": "08465819-e55d-4781-aa5d-58566bb53abd",
   "metadata": {},
   "outputs": [
    {
     "data": {
      "text/plain": [
       "'kgf'"
      ]
     },
     "execution_count": 43,
     "metadata": {},
     "output_type": "execute_result"
    }
   ],
   "source": [
    "#Q6. Create a list of your top three favorite movies, then print the second movie title.\n",
    "movies=['Bahubali','kgf','pushpa']\n",
    "movies[1]"
   ]
  },
  {
   "cell_type": "code",
   "execution_count": 48,
   "id": "dc7af8cb-8199-4927-bc7d-6bbf540c9efa",
   "metadata": {},
   "outputs": [
    {
     "data": {
      "text/plain": [
       "['Lion', 'Dog', 'Tiger', 'Elephant', 'Cow', 'Monkey']"
      ]
     },
     "execution_count": 48,
     "metadata": {},
     "output_type": "execute_result"
    }
   ],
   "source": [
    "#Q7. Create a list of your favorite animals, then add a new animal to the list and print the updated list.\n",
    "animal=['Lion','Dog','Elephant','Cow','Monkey']\n",
    "animal.insert(2,'Tiger')\n",
    "animal"
   ]
  },
  {
   "cell_type": "code",
   "execution_count": null,
   "id": "d35ab3ed-9a6b-4569-b328-1b07857f04c5",
   "metadata": {},
   "outputs": [],
   "source": [
    "#Q8. Create a list of your favorite cities, then use the index() method to find the position of a specific city\n",
    "# on the list and print it.\n",
    "fav_city=['Lucknow','Kanpur','Prayagraj','Delhi','Noida','Banglore','Ahemdabad','Mumbai','Pune']"
   ]
  },
  {
   "cell_type": "code",
   "execution_count": null,
   "id": "699b9e9e-cb5f-4336-a261-16bdcaaa3c2e",
   "metadata": {},
   "outputs": [],
   "source": []
  }
 ],
 "metadata": {
  "kernelspec": {
   "display_name": "Python 3 (ipykernel)",
   "language": "python",
   "name": "python3"
  },
  "language_info": {
   "codemirror_mode": {
    "name": "ipython",
    "version": 3
   },
   "file_extension": ".py",
   "mimetype": "text/x-python",
   "name": "python",
   "nbconvert_exporter": "python",
   "pygments_lexer": "ipython3",
   "version": "3.10.8"
  }
 },
 "nbformat": 4,
 "nbformat_minor": 5
}
